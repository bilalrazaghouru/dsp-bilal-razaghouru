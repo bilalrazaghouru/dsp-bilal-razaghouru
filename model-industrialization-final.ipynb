{
 "cells": [
  {
   "cell_type": "code",
   "execution_count": 3,
   "id": "b5e153f3-cd7f-47db-84c5-9bc6716a8c26",
   "metadata": {},
   "outputs": [
    {
     "name": "stdout",
     "output_type": "stream",
     "text": [
      "File loaded from: C:\\Users\\hp\\dsp-bilal-razaghouru\\house_prices\\preprocess.py\n",
      "Functions available: ['__builtins__', '__cached__', '__doc__', '__file__', '__loader__', '__name__', '__package__', '__spec__']\n"
     ]
    }
   ],
   "source": [
    "import house_prices.preprocess as prep\n",
    "print(\"File loaded from:\", prep.__file__)\n",
    "print(\"Functions available:\", dir(prep))\n"
   ]
  },
  {
   "cell_type": "code",
   "execution_count": 9,
   "id": "905e00e0-80a5-41b4-a9bb-244bd68a97c4",
   "metadata": {},
   "outputs": [
    {
     "name": "stdout",
     "output_type": "stream",
     "text": [
      "Current working directory: C:\\Users\\hp\\dsp-bilal-razaghouru\n"
     ]
    }
   ],
   "source": [
    "import os\n",
    "print(\"Current working directory:\", os.getcwd())\n"
   ]
  },
  {
   "cell_type": "code",
   "execution_count": 10,
   "id": "3f041ab0-e38e-4a18-8606-263a107999f4",
   "metadata": {},
   "outputs": [
    {
     "name": "stdout",
     "output_type": "stream",
     "text": [
      "{'rmsle': np.float64(0.1555)}\n"
     ]
    }
   ],
   "source": [
    "import pandas as pd\n",
    "from house_prices.train import build_model\n",
    "\n",
    "train_df = pd.read_csv('data/train.csv')\n",
    "metrics = build_model(train_df)\n",
    "print(metrics)\n"
   ]
  },
  {
   "cell_type": "code",
   "execution_count": 14,
   "id": "8b2bf874-14fc-4536-bc93-5b6f3fc73e9d",
   "metadata": {},
   "outputs": [
    {
     "name": "stdout",
     "output_type": "stream",
     "text": [
      "Loaded from: C:\\Users\\hp\\dsp-bilal-razaghouru\\house_prices\\inference.py\n",
      "Functions available: ['__builtins__', '__cached__', '__doc__', '__file__', '__loader__', '__name__', '__package__', '__spec__']\n"
     ]
    }
   ],
   "source": [
    "import house_prices.inference as inf\n",
    "print(\"Loaded from:\", inf.__file__)\n",
    "print(\"Functions available:\", dir(inf))\n"
   ]
  },
  {
   "cell_type": "code",
   "execution_count": 15,
   "id": "73f7f28c-6847-428b-bbbb-23c006da8e47",
   "metadata": {},
   "outputs": [
    {
     "name": "stdout",
     "output_type": "stream",
     "text": [
      "Reloaded functions: ['__builtins__', '__cached__', '__doc__', '__file__', '__loader__', '__name__', '__package__', '__spec__', 'joblib', 'make_predictions', 'np', 'pd', 'transform_features']\n"
     ]
    }
   ],
   "source": [
    "import importlib, house_prices.inference\n",
    "importlib.reload(house_prices.inference)\n",
    "print(\"Reloaded functions:\", dir(house_prices.inference))\n"
   ]
  },
  {
   "cell_type": "code",
   "execution_count": 16,
   "id": "5cd11bb4-67c4-40da-9b99-0c800a1f8584",
   "metadata": {},
   "outputs": [
    {
     "data": {
      "text/plain": [
       "array([129690.  , 156320.5 , 178953.  , ..., 149600.97, 113591.25,\n",
       "       219260.71], shape=(1459,))"
      ]
     },
     "execution_count": 16,
     "metadata": {},
     "output_type": "execute_result"
    }
   ],
   "source": [
    "import pandas as pd\n",
    "from house_prices.inference import make_predictions\n",
    "\n",
    "test_df = pd.read_csv('data/test.csv')\n",
    "predictions = make_predictions(test_df)\n",
    "predictions\n"
   ]
  },
  {
   "cell_type": "code",
   "execution_count": null,
   "id": "e608f5c5-505c-46ce-b5ff-c5aeb598f890",
   "metadata": {},
   "outputs": [],
   "source": []
  }
 ],
 "metadata": {
  "kernelspec": {
   "display_name": "Python 3 (ipykernel)",
   "language": "python",
   "name": "python3"
  },
  "language_info": {
   "codemirror_mode": {
    "name": "ipython",
    "version": 3
   },
   "file_extension": ".py",
   "mimetype": "text/x-python",
   "name": "python",
   "nbconvert_exporter": "python",
   "pygments_lexer": "ipython3",
   "version": "3.12.7"
  }
 },
 "nbformat": 4,
 "nbformat_minor": 5
}
